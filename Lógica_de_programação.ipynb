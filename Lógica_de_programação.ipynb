{
  "nbformat": 4,
  "nbformat_minor": 0,
  "metadata": {
    "colab": {
      "name": "Lógica de programação.ipynb",
      "provenance": [],
      "collapsed_sections": [],
      "include_colab_link": true
    },
    "kernelspec": {
      "name": "python3",
      "display_name": "Python 3"
    }
  },
  "cells": [
    {
      "cell_type": "markdown",
      "metadata": {
        "id": "view-in-github",
        "colab_type": "text"
      },
      "source": [
        "<a href=\"https://colab.research.google.com/github/orosamatheus/logica-de-programacao-python/blob/main/L%C3%B3gica_de_programa%C3%A7%C3%A3o.ipynb\" target=\"_parent\"><img src=\"https://colab.research.google.com/assets/colab-badge.svg\" alt=\"Open In Colab\"/></a>"
      ]
    },
    {
      "cell_type": "markdown",
      "metadata": {
        "id": "0BcCvIrC5ALM"
      },
      "source": [
        "#O que é lógica de programação?\n",
        "\n",
        "Lógica de Programação é o modo como se escrevem programas através de uma sequência finita de passos para executar uma ou várias funções, esta sequência é o **algoritmo**.\n",
        "\n",
        "\n"
      ]
    },
    {
      "cell_type": "markdown",
      "metadata": {
        "id": "eElpuW4IoO9f"
      },
      "source": [
        "#Algoritmo\n",
        "\n",
        "Como dito acima, algoritmo é uma sequência finita de passos para resolver um problema específico.\n",
        "\n",
        "```\n",
        "Algoritmo Fazer miojo\n",
        "\n",
        "inicio\n",
        "\n",
        "Comprar miojo\n",
        "Pegar panela\n",
        "Colocar agua na panela\n",
        "Acender o fogo\n",
        "Colocar agua pra ferver\n",
        "Esperar\n",
        "Se agua ferveu:\n",
        "  Colocar miojo dentro da panela\n",
        "Se não:\n",
        "  Esperar ferver\n",
        "Verificar \n",
        "Se estiver pronto:\n",
        "  Desligar fogo\n",
        "Se não:\n",
        "  Esperar mais alguns minutos\n",
        "Tirar panela do fogo\n",
        "Colocar tempero\n",
        "Esperar esfriar\n",
        "\n",
        "Fim\n",
        "```\n",
        "\n",
        "#Todo algoritmo tem começo meio e fim.\n",
        "\n",
        "*Entrada de dados => processamento => saída*\n",
        "\n",
        "```\n",
        "inicio Traduzir Frase\n",
        "\n",
        "Entrada de dados:\n",
        "(Frase a ser traduzida)\n",
        "\n",
        "Processamento: Procurar tradução no dicionário\n",
        "\n",
        "Saída: Frase traduzida\n",
        "```"
      ]
    },
    {
      "cell_type": "markdown",
      "metadata": {
        "id": "svhJ1pQbn9wX"
      },
      "source": [
        "#Linguagens de programação\n",
        "\n",
        "A língua que o computador entende são sequências lógicas de zeros e uns, ou seja, um **sistema binário**, apenas dois elementos. Para desenvolver é necessário escrever utilizando uma linguagem de programação a qual será “traduzida” e posteriormente transformada em código binário, para que a máquina entenda a sequência de comandos e execute a tarefa desejada.\n",
        "\n",
        "* Python\n",
        "* Javascript\n",
        "* Java\n",
        "* C#\n",
        "* Ruby\n",
        "\n",
        "#Por que começar com Python?\n",
        "\n",
        "1. Sintaxe simples\n",
        "1. Língua de Alto nível\n",
        "1. Grande comunidade\n",
        "1. Abertura para vários caminhos\n"
      ]
    },
    {
      "cell_type": "markdown",
      "metadata": {
        "id": "AZz1ua6xoqXf"
      },
      "source": [
        "#Variáveis\n",
        "\n",
        "Variáveis são locais onde armazenamos valores na memória. Toda\n",
        "variável é caracterizada por um nome, que a identifica em um\n",
        "programa, e por um tipo, que determina o que pode ser\n",
        "armazenado naquela variável.\n",
        "\n",
        "Diferente de outras linguagens, o python tem a tipagem dinamica, ou seja, a linguagem tem o poder de identificar e definir o tipo atribuido dentro de sua variável"
      ]
    },
    {
      "cell_type": "markdown",
      "metadata": {
        "id": "qonrdUCFo5sF"
      },
      "source": [
        "\n",
        "#Atribuição\n",
        "\n",
        "O símbolo para atribuição de valores a variáveis se refere ao **=**\n",
        "A sua esquerda deve existir o nome da variável e a sua direita uma expressão do valor a ser armazenado nesta variável.\n",
        "\n",
        "```\n",
        "nome = \"Matheus\"\n",
        "````\n",
        "*nome é a variável e Matheus é o valor atribuído a essa váriavel*"
      ]
    },
    {
      "cell_type": "markdown",
      "metadata": {
        "id": "O_x0131opDip"
      },
      "source": [
        "#Tipos de dados básicos \n",
        "\n",
        "* Inteiro\n",
        "```\n",
        "numero = 1\n",
        "```\n",
        "* Float\n",
        "```\n",
        "numero = 1.55\n",
        "```\n",
        "* String\n",
        "```\n",
        "nome = \"Matheus\"\n",
        "```\n",
        "* Booleano\n",
        "```\n",
        "lógico = True\n",
        "```\n"
      ]
    },
    {
      "cell_type": "code",
      "metadata": {
        "id": "uEaCiim6VBND"
      },
      "source": [
        "numero_inteiro = 1\n",
        "numero_flutuante = 1.55\n",
        "nome = \"Matheus\"\n",
        "logico = True"
      ],
      "execution_count": null,
      "outputs": []
    },
    {
      "cell_type": "code",
      "metadata": {
        "id": "HLUp0sGcc8HU"
      },
      "source": [
        "type(numero_inteiro)"
      ],
      "execution_count": null,
      "outputs": []
    },
    {
      "cell_type": "code",
      "metadata": {
        "id": "_SR87fO0c-h5"
      },
      "source": [
        "type(numero_flutuante)"
      ],
      "execution_count": null,
      "outputs": []
    },
    {
      "cell_type": "code",
      "metadata": {
        "id": "tokzUYbXdGBX"
      },
      "source": [
        "type(nome)"
      ],
      "execution_count": null,
      "outputs": []
    },
    {
      "cell_type": "code",
      "metadata": {
        "id": "mxMPEX3zdIDL"
      },
      "source": [
        "type(logico)"
      ],
      "execution_count": null,
      "outputs": []
    },
    {
      "cell_type": "markdown",
      "metadata": {
        "id": "Hiv2uujfg_By"
      },
      "source": [
        "#Entrada e saída de dados em python\n",
        "\n",
        "No python a entrada de dados é caracterizada pela função **input**:\n",
        "\n",
        "```\n",
        "nome = input(\"Digite seu nome\")\n",
        "```\n",
        "E a saída é caracterizada pela função **print**\n",
        "```\n",
        "print(nome)\n",
        "```"
      ]
    },
    {
      "cell_type": "code",
      "metadata": {
        "id": "LZ5dygIkicWs"
      },
      "source": [
        "nome = input(\"Digite seu nome: \")\n",
        "print(\"Meu nome é\", nome)"
      ],
      "execution_count": null,
      "outputs": []
    },
    {
      "cell_type": "markdown",
      "metadata": {
        "id": "qPXBLx89lENM"
      },
      "source": [
        "#Operadores Aritméticos\n",
        "\n"
      ]
    },
    {
      "cell_type": "code",
      "metadata": {
        "colab": {
          "base_uri": "https://localhost:8080/"
        },
        "id": "iUP1OwNDlnx8",
        "outputId": "f35c57af-bf8d-4dbd-e4ea-e107472ac068"
      },
      "source": [
        "#Soma\n",
        "2 + 5"
      ],
      "execution_count": null,
      "outputs": [
        {
          "output_type": "execute_result",
          "data": {
            "text/plain": [
              "7"
            ]
          },
          "metadata": {
            "tags": []
          },
          "execution_count": 51
        }
      ]
    },
    {
      "cell_type": "code",
      "metadata": {
        "colab": {
          "base_uri": "https://localhost:8080/"
        },
        "id": "XJ8Gyvaflp4f",
        "outputId": "050e0033-fb4a-4ba1-c0e4-97f57cb4d9f4"
      },
      "source": [
        "#Subtração\n",
        "5 - 2"
      ],
      "execution_count": null,
      "outputs": [
        {
          "output_type": "execute_result",
          "data": {
            "text/plain": [
              "3"
            ]
          },
          "metadata": {
            "tags": []
          },
          "execution_count": 52
        }
      ]
    },
    {
      "cell_type": "code",
      "metadata": {
        "colab": {
          "base_uri": "https://localhost:8080/"
        },
        "id": "M-o0iQVRmNkv",
        "outputId": "d653b496-bf6e-45d3-e7d4-795800272397"
      },
      "source": [
        "#Adição e Subtração\n",
        "15 - 4 + 1"
      ],
      "execution_count": null,
      "outputs": [
        {
          "output_type": "execute_result",
          "data": {
            "text/plain": [
              "12"
            ]
          },
          "metadata": {
            "tags": []
          },
          "execution_count": 53
        }
      ]
    },
    {
      "cell_type": "code",
      "metadata": {
        "colab": {
          "base_uri": "https://localhost:8080/"
        },
        "id": "QasmFSThl3lK",
        "outputId": "5739b73e-1795-4077-e684-5ddf9c04b338"
      },
      "source": [
        "#Multiplicação\n",
        "2 * 5"
      ],
      "execution_count": null,
      "outputs": [
        {
          "output_type": "execute_result",
          "data": {
            "text/plain": [
              "10"
            ]
          },
          "metadata": {
            "tags": []
          },
          "execution_count": 54
        }
      ]
    },
    {
      "cell_type": "code",
      "metadata": {
        "colab": {
          "base_uri": "https://localhost:8080/"
        },
        "id": "p-ObODecl7lG",
        "outputId": "45c881c1-31e5-40a4-8b12-051acdb546b8"
      },
      "source": [
        "#Divisão\n",
        "4 / 2"
      ],
      "execution_count": null,
      "outputs": [
        {
          "output_type": "execute_result",
          "data": {
            "text/plain": [
              "2.0"
            ]
          },
          "metadata": {
            "tags": []
          },
          "execution_count": 55
        }
      ]
    },
    {
      "cell_type": "code",
      "metadata": {
        "colab": {
          "base_uri": "https://localhost:8080/"
        },
        "id": "I-4enVWMmB3R",
        "outputId": "4f1fb0ce-9b10-4872-bec6-ead16d4b0347"
      },
      "source": [
        "#Multiplicação e divisão\n",
        "2*10/4"
      ],
      "execution_count": null,
      "outputs": [
        {
          "output_type": "execute_result",
          "data": {
            "text/plain": [
              "5.0"
            ]
          },
          "metadata": {
            "tags": []
          },
          "execution_count": 56
        }
      ]
    },
    {
      "cell_type": "code",
      "metadata": {
        "colab": {
          "base_uri": "https://localhost:8080/"
        },
        "id": "QTBk0oS7mdK1",
        "outputId": "4a6c686f-886f-41d9-97df-3ebf89763a22"
      },
      "source": [
        "#Exponenciação\n",
        "\n",
        "2**5"
      ],
      "execution_count": null,
      "outputs": [
        {
          "output_type": "execute_result",
          "data": {
            "text/plain": [
              "32"
            ]
          },
          "metadata": {
            "tags": []
          },
          "execution_count": 57
        }
      ]
    },
    {
      "cell_type": "code",
      "metadata": {
        "colab": {
          "base_uri": "https://localhost:8080/"
        },
        "id": "9XxeDHvBmkNr",
        "outputId": "36eabbdd-6232-4330-9a0f-c13531c34f41"
      },
      "source": [
        "#Resto de divisão\n",
        "10 % 3"
      ],
      "execution_count": null,
      "outputs": [
        {
          "output_type": "execute_result",
          "data": {
            "text/plain": [
              "1"
            ]
          },
          "metadata": {
            "tags": []
          },
          "execution_count": 58
        }
      ]
    },
    {
      "cell_type": "markdown",
      "metadata": {
        "id": "kL1wwZmOmxX9"
      },
      "source": [
        "###*O uso de parênteses é feito conforme expressões matemáticas* "
      ]
    },
    {
      "cell_type": "code",
      "metadata": {
        "colab": {
          "base_uri": "https://localhost:8080/"
        },
        "id": "Z--kKJq-m74I",
        "outputId": "97f1f036-5fd8-491d-82ff-fd30d769d9f1"
      },
      "source": [
        "1000 + (1000*5/100)"
      ],
      "execution_count": null,
      "outputs": [
        {
          "output_type": "execute_result",
          "data": {
            "text/plain": [
              "1050.0"
            ]
          },
          "metadata": {
            "tags": []
          },
          "execution_count": 59
        }
      ]
    },
    {
      "cell_type": "markdown",
      "metadata": {
        "id": "wgd1LQMInxP7"
      },
      "source": [
        "#Operadores relacionais\n",
        "\n",
        "```\n",
        " == | Igualdade\n",
        " > | Maior que\n",
        " < | Menor que\n",
        " != | Diferente de\n",
        " >= | Maior ou igual\n",
        " <= | Menor ou igual\n",
        "```\n",
        "\n",
        "O resultado de uma comparação é um valor do tipo lógico, ou seja, True ou False."
      ]
    },
    {
      "cell_type": "code",
      "metadata": {
        "colab": {
          "base_uri": "https://localhost:8080/"
        },
        "id": "xdXC0oHaqe7b",
        "outputId": "26b39c28-9cfc-4905-cead-8a994c906292"
      },
      "source": [
        "1 == 2"
      ],
      "execution_count": null,
      "outputs": [
        {
          "output_type": "execute_result",
          "data": {
            "text/plain": [
              "False"
            ]
          },
          "metadata": {
            "tags": []
          },
          "execution_count": 65
        }
      ]
    },
    {
      "cell_type": "code",
      "metadata": {
        "colab": {
          "base_uri": "https://localhost:8080/"
        },
        "id": "k4tCvjelqLIC",
        "outputId": "91657a89-b615-4829-94ea-aae80b87f0b3"
      },
      "source": [
        "5 > 4"
      ],
      "execution_count": null,
      "outputs": [
        {
          "output_type": "execute_result",
          "data": {
            "text/plain": [
              "True"
            ]
          },
          "metadata": {
            "tags": []
          },
          "execution_count": 61
        }
      ]
    },
    {
      "cell_type": "code",
      "metadata": {
        "colab": {
          "base_uri": "https://localhost:8080/"
        },
        "id": "JPOL6BBJqZPp",
        "outputId": "c3b6627a-c965-4ce7-a3ac-a730ce3dcfc9"
      },
      "source": [
        "4 < 1"
      ],
      "execution_count": null,
      "outputs": [
        {
          "output_type": "execute_result",
          "data": {
            "text/plain": [
              "False"
            ]
          },
          "metadata": {
            "tags": []
          },
          "execution_count": 63
        }
      ]
    },
    {
      "cell_type": "code",
      "metadata": {
        "colab": {
          "base_uri": "https://localhost:8080/"
        },
        "id": "k7QHsdlsqe3L",
        "outputId": "f796e1cc-0f61-4628-ad90-db454482ae3a"
      },
      "source": [
        "1 != 1"
      ],
      "execution_count": null,
      "outputs": [
        {
          "output_type": "execute_result",
          "data": {
            "text/plain": [
              "False"
            ]
          },
          "metadata": {
            "tags": []
          },
          "execution_count": 64
        }
      ]
    },
    {
      "cell_type": "code",
      "metadata": {
        "colab": {
          "base_uri": "https://localhost:8080/"
        },
        "id": "ydxSv_a5qf4k",
        "outputId": "36503406-5f63-44ef-c874-f38863da56fd"
      },
      "source": [
        "2 >= 1"
      ],
      "execution_count": null,
      "outputs": [
        {
          "output_type": "execute_result",
          "data": {
            "text/plain": [
              "True"
            ]
          },
          "metadata": {
            "tags": []
          },
          "execution_count": 66
        }
      ]
    },
    {
      "cell_type": "code",
      "metadata": {
        "colab": {
          "base_uri": "https://localhost:8080/"
        },
        "id": "vfthjwjiqgEn",
        "outputId": "d28a088a-0f3b-467c-d897-ae0b947a134b"
      },
      "source": [
        "2 <= 1"
      ],
      "execution_count": null,
      "outputs": [
        {
          "output_type": "execute_result",
          "data": {
            "text/plain": [
              "False"
            ]
          },
          "metadata": {
            "tags": []
          },
          "execution_count": 67
        }
      ]
    },
    {
      "cell_type": "markdown",
      "metadata": {
        "id": "VO9Q5oyBqykw"
      },
      "source": [
        "## Atribuindo a variáveis"
      ]
    },
    {
      "cell_type": "code",
      "metadata": {
        "id": "MGAh0l-6q2-N"
      },
      "source": [
        "x = 1\n",
        "y = 3"
      ],
      "execution_count": null,
      "outputs": []
    },
    {
      "cell_type": "code",
      "metadata": {
        "colab": {
          "base_uri": "https://localhost:8080/"
        },
        "id": "fO3V0OUJq9dD",
        "outputId": "ced722d8-7036-47b4-f7bd-72b3fb3ad4be"
      },
      "source": [
        "x > y"
      ],
      "execution_count": null,
      "outputs": [
        {
          "output_type": "execute_result",
          "data": {
            "text/plain": [
              "False"
            ]
          },
          "metadata": {
            "tags": []
          },
          "execution_count": 71
        }
      ]
    },
    {
      "cell_type": "code",
      "metadata": {
        "colab": {
          "base_uri": "https://localhost:8080/"
        },
        "id": "yVz_RoK7rBs7",
        "outputId": "cb430e54-455a-4d67-bc74-296b15ac67c9"
      },
      "source": [
        "x < y"
      ],
      "execution_count": null,
      "outputs": [
        {
          "output_type": "execute_result",
          "data": {
            "text/plain": [
              "True"
            ]
          },
          "metadata": {
            "tags": []
          },
          "execution_count": 72
        }
      ]
    },
    {
      "cell_type": "code",
      "metadata": {
        "colab": {
          "base_uri": "https://localhost:8080/"
        },
        "id": "5v1VYHHJrELQ",
        "outputId": "830cc83b-e972-4ad1-9f6d-c7c142e2cee9"
      },
      "source": [
        "x >= y"
      ],
      "execution_count": null,
      "outputs": [
        {
          "output_type": "execute_result",
          "data": {
            "text/plain": [
              "False"
            ]
          },
          "metadata": {
            "tags": []
          },
          "execution_count": 73
        }
      ]
    },
    {
      "cell_type": "markdown",
      "metadata": {
        "id": "5xmWlyuJrKtY"
      },
      "source": [
        "# Operadores Lógicos\n",
        "\n",
        "```\n",
        "not => negação\n",
        "and => e\n",
        "or => ou\n",
        "```\n",
        "Cada operador obdece um conjunto de regras, estipuladas pela tabela verdade desse operador"
      ]
    },
    {
      "cell_type": "code",
      "metadata": {
        "colab": {
          "base_uri": "https://localhost:8080/"
        },
        "id": "WISFF35WsF8P",
        "outputId": "a4fd946c-a39a-4ae0-d958-76d012ae16cd"
      },
      "source": [
        "not True"
      ],
      "execution_count": null,
      "outputs": [
        {
          "output_type": "execute_result",
          "data": {
            "text/plain": [
              "False"
            ]
          },
          "metadata": {
            "tags": []
          },
          "execution_count": 78
        }
      ]
    },
    {
      "cell_type": "code",
      "metadata": {
        "colab": {
          "base_uri": "https://localhost:8080/"
        },
        "id": "tfTlZEUrtj45",
        "outputId": "a3a3038c-9400-47f3-b2e2-ab720d45e4d4"
      },
      "source": [
        "not False"
      ],
      "execution_count": null,
      "outputs": [
        {
          "output_type": "execute_result",
          "data": {
            "text/plain": [
              "True"
            ]
          },
          "metadata": {
            "tags": []
          },
          "execution_count": 79
        }
      ]
    },
    {
      "cell_type": "code",
      "metadata": {
        "colab": {
          "base_uri": "https://localhost:8080/"
        },
        "id": "dgLN4BbpuKQO",
        "outputId": "2f123826-e8a4-4b2b-b953-8b9576f6a645"
      },
      "source": [
        "salario = 100\n",
        "idade = 18"
      ],
      "execution_count": null,
      "outputs": [
        {
          "output_type": "execute_result",
          "data": {
            "text/plain": [
              "False"
            ]
          },
          "metadata": {
            "tags": []
          },
          "execution_count": 84
        }
      ]
    },
    {
      "cell_type": "code",
      "metadata": {
        "colab": {
          "base_uri": "https://localhost:8080/"
        },
        "id": "jWct8PF-udTK",
        "outputId": "df5c40c1-af86-426e-a427-c97f9304910b"
      },
      "source": [
        "salario > 1000 and idade >18"
      ],
      "execution_count": null,
      "outputs": [
        {
          "output_type": "execute_result",
          "data": {
            "text/plain": [
              "False"
            ]
          },
          "metadata": {
            "tags": []
          },
          "execution_count": 87
        }
      ]
    },
    {
      "cell_type": "code",
      "metadata": {
        "colab": {
          "base_uri": "https://localhost:8080/"
        },
        "id": "7SgZhg-RuRpx",
        "outputId": "9bd01426-db1c-46b9-df8a-00d4f047d591"
      },
      "source": [
        "salario < 1000 and idade == 18"
      ],
      "execution_count": null,
      "outputs": [
        {
          "output_type": "execute_result",
          "data": {
            "text/plain": [
              "True"
            ]
          },
          "metadata": {
            "tags": []
          },
          "execution_count": 86
        }
      ]
    },
    {
      "cell_type": "code",
      "metadata": {
        "colab": {
          "base_uri": "https://localhost:8080/"
        },
        "id": "EPxTpfFjue0J",
        "outputId": "2560af47-a340-416a-fa20-6d5b82024956"
      },
      "source": [
        "salario > 1000 or idade > 17"
      ],
      "execution_count": null,
      "outputs": [
        {
          "output_type": "execute_result",
          "data": {
            "text/plain": [
              "True"
            ]
          },
          "metadata": {
            "tags": []
          },
          "execution_count": 89
        }
      ]
    }
